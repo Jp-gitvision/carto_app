{
 "cells": [
  {
   "cell_type": "code",
   "execution_count": 8,
   "metadata": {},
   "outputs": [
    {
     "name": "stderr",
     "output_type": "stream",
     "text": [
      "/var/folders/nz/7dwkpq_90ss4_hjmzld88h5w0000gp/T/ipykernel_23946/3146504527.py:5: DtypeWarning: Columns (0,2,8,9,10,11,12,13,14,15,16,17,18,19,20,21,22,23,24,25,26) have mixed types. Specify dtype option on import or set low_memory=False.\n",
      "  df_age = pd.read_csv('age-insee-rp2019.csv')\n"
     ]
    }
   ],
   "source": [
    "import pandas as pd\n",
    "\n",
    "# Charger les fichiers CSV\n",
    "df_communes = pd.read_csv('communes-departement-region.csv')\n",
    "df_age = pd.read_csv('age-insee-rp2019.csv')\n",
    "\n",
    "# S'assurer que les codes sont des chaînes de caractères pour éviter les problèmes de formatage\n",
    "df_communes['code_commune_INSEE'] = df_communes['code_commune_INSEE'].astype(str)\n",
    "df_age['COM'] = df_age['COM'].astype(str)\n",
    "\n",
    "# Sélectionner les colonnes spécifiques dans df_age avant la fusion\n",
    "df_age_selected = df_age[['COM', 'NCOM', 'NREG','NDEP', 'F65-79', 'F80+', 'H65-79', 'H80+']]\n",
    "\n",
    "# Fusionner les fichiers en utilisant les colonnes appropriées\n",
    "df_merged = pd.merge(df_age_selected, df_communes[['code_commune_INSEE', 'latitude', 'longitude']],\n",
    "                     left_on='COM', right_on='code_commune_INSEE', how='left')\n",
    "\n",
    "# Supprimer la colonne redondante 'code_commune_INSEE'\n",
    "df_merged.drop('code_commune_INSEE', axis=1, inplace=True)\n",
    "\n",
    "# Sauvegarder le résultat dans un nouveau fichier CSV\n",
    "df_merged.to_csv('age_insee_with_coordinates.csv', index=False)\n"
   ]
  },
  {
   "cell_type": "code",
   "execution_count": 9,
   "metadata": {},
   "outputs": [
    {
     "name": "stderr",
     "output_type": "stream",
     "text": [
      "/var/folders/nz/7dwkpq_90ss4_hjmzld88h5w0000gp/T/ipykernel_23946/2915852319.py:5: DtypeWarning: Columns (0,2,8,9,10,11,12,13,14,15,16,17,18,19,20,21,22,23,24,25,26) have mixed types. Specify dtype option on import or set low_memory=False.\n",
      "  df_age = pd.read_csv('age-insee-rp2019.csv')\n"
     ]
    }
   ],
   "source": [
    "import pandas as pd\n",
    "\n",
    "# Charger les fichiers CSV\n",
    "df_communes = pd.read_csv('communes-departement-region.csv')\n",
    "df_age = pd.read_csv('age-insee-rp2019.csv')\n",
    "\n",
    "# S'assurer que les codes sont des chaînes de caractères pour éviter les problèmes de formatage\n",
    "df_communes['code_commune_INSEE'] = df_communes['code_commune_INSEE'].astype(str)\n",
    "df_age['COM'] = df_age['COM'].astype(str)\n",
    "\n",
    "# Sélectionner les colonnes spécifiques dans df_age avant la fusion\n",
    "df_age_selected = df_age[['COM', 'NCOM', 'NREG','NDEP', 'F65-79', 'F80+', 'H65-79', 'H80+']]\n",
    "\n",
    "# Fusionner les fichiers en utilisant les colonnes appropriées\n",
    "df_merged = pd.merge(df_age_selected, df_communes[['code_commune_INSEE', 'latitude', 'longitude']],\n",
    "                     left_on='COM', right_on='code_commune_INSEE', how='left')\n",
    "\n",
    "# Supprimer la colonne redondante 'code_commune_INSEE'\n",
    "df_merged.drop('code_commune_INSEE', axis=1, inplace=True)\n",
    "\n",
    "# Supprimer les lignes contenant des valeurs NaN\n",
    "df_merged_cleaned = df_merged.dropna()\n",
    "\n",
    "# Sauvegarder le résultat nettoyé dans un nouveau fichier CSV\n",
    "df_merged_cleaned.to_csv('age_insee_with_coordinates_cleaned.csv', index=False)\n"
   ]
  },
  {
   "cell_type": "code",
   "execution_count": 10,
   "metadata": {},
   "outputs": [
    {
     "data": {
      "text/html": [
       "<div>\n",
       "<style scoped>\n",
       "    .dataframe tbody tr th:only-of-type {\n",
       "        vertical-align: middle;\n",
       "    }\n",
       "\n",
       "    .dataframe tbody tr th {\n",
       "        vertical-align: top;\n",
       "    }\n",
       "\n",
       "    .dataframe thead th {\n",
       "        text-align: right;\n",
       "    }\n",
       "</style>\n",
       "<table border=\"1\" class=\"dataframe\">\n",
       "  <thead>\n",
       "    <tr style=\"text-align: right;\">\n",
       "      <th></th>\n",
       "      <th>COM</th>\n",
       "      <th>NCOM</th>\n",
       "      <th>NREG</th>\n",
       "      <th>NDEP</th>\n",
       "      <th>F65-79</th>\n",
       "      <th>F80+</th>\n",
       "      <th>H65-79</th>\n",
       "      <th>H80+</th>\n",
       "      <th>latitude</th>\n",
       "      <th>longitude</th>\n",
       "    </tr>\n",
       "  </thead>\n",
       "  <tbody>\n",
       "    <tr>\n",
       "      <th>0</th>\n",
       "      <td>1001</td>\n",
       "      <td>L'Abergement-Clémenciat</td>\n",
       "      <td>Auvergne-Rhône-Alpes</td>\n",
       "      <td>Ain</td>\n",
       "      <td>55.0</td>\n",
       "      <td>19</td>\n",
       "      <td>62.0</td>\n",
       "      <td>15.0</td>\n",
       "      <td>46.153426</td>\n",
       "      <td>4.926114</td>\n",
       "    </tr>\n",
       "    <tr>\n",
       "      <th>1</th>\n",
       "      <td>1002</td>\n",
       "      <td>L'Abergement-de-Varey</td>\n",
       "      <td>Auvergne-Rhône-Alpes</td>\n",
       "      <td>Ain</td>\n",
       "      <td>12.0</td>\n",
       "      <td>5</td>\n",
       "      <td>22.0</td>\n",
       "      <td>6.0</td>\n",
       "      <td>46.009188</td>\n",
       "      <td>5.428017</td>\n",
       "    </tr>\n",
       "    <tr>\n",
       "      <th>2</th>\n",
       "      <td>1004</td>\n",
       "      <td>Ambérieu-en-Bugey</td>\n",
       "      <td>Auvergne-Rhône-Alpes</td>\n",
       "      <td>Ain</td>\n",
       "      <td>1003.0</td>\n",
       "      <td>523</td>\n",
       "      <td>685.0</td>\n",
       "      <td>261.0</td>\n",
       "      <td>45.960848</td>\n",
       "      <td>5.372926</td>\n",
       "    </tr>\n",
       "    <tr>\n",
       "      <th>3</th>\n",
       "      <td>1005</td>\n",
       "      <td>Ambérieux-en-Dombes</td>\n",
       "      <td>Auvergne-Rhône-Alpes</td>\n",
       "      <td>Ain</td>\n",
       "      <td>102.0</td>\n",
       "      <td>43</td>\n",
       "      <td>106.0</td>\n",
       "      <td>31.0</td>\n",
       "      <td>45.996180</td>\n",
       "      <td>4.912273</td>\n",
       "    </tr>\n",
       "    <tr>\n",
       "      <th>4</th>\n",
       "      <td>1006</td>\n",
       "      <td>Ambléon</td>\n",
       "      <td>Auvergne-Rhône-Alpes</td>\n",
       "      <td>Ain</td>\n",
       "      <td>9.0</td>\n",
       "      <td>5</td>\n",
       "      <td>9.0</td>\n",
       "      <td>3.0</td>\n",
       "      <td>45.749499</td>\n",
       "      <td>5.594320</td>\n",
       "    </tr>\n",
       "    <tr>\n",
       "      <th>...</th>\n",
       "      <td>...</td>\n",
       "      <td>...</td>\n",
       "      <td>...</td>\n",
       "      <td>...</td>\n",
       "      <td>...</td>\n",
       "      <td>...</td>\n",
       "      <td>...</td>\n",
       "      <td>...</td>\n",
       "      <td>...</td>\n",
       "      <td>...</td>\n",
       "    </tr>\n",
       "    <tr>\n",
       "      <th>95</th>\n",
       "      <td>1092</td>\n",
       "      <td>Châtillon-la-Palud</td>\n",
       "      <td>Auvergne-Rhône-Alpes</td>\n",
       "      <td>Ain</td>\n",
       "      <td>113.0</td>\n",
       "      <td>32</td>\n",
       "      <td>100.0</td>\n",
       "      <td>30.0</td>\n",
       "      <td>45.974802</td>\n",
       "      <td>5.241603</td>\n",
       "    </tr>\n",
       "    <tr>\n",
       "      <th>96</th>\n",
       "      <td>1093</td>\n",
       "      <td>Châtillon-sur-Chalaronne</td>\n",
       "      <td>Auvergne-Rhône-Alpes</td>\n",
       "      <td>Ain</td>\n",
       "      <td>462.0</td>\n",
       "      <td>381</td>\n",
       "      <td>346.0</td>\n",
       "      <td>172.0</td>\n",
       "      <td>46.123239</td>\n",
       "      <td>4.958100</td>\n",
       "    </tr>\n",
       "    <tr>\n",
       "      <th>97</th>\n",
       "      <td>1094</td>\n",
       "      <td>Chavannes-sur-Reyssouze</td>\n",
       "      <td>Auvergne-Rhône-Alpes</td>\n",
       "      <td>Ain</td>\n",
       "      <td>54.0</td>\n",
       "      <td>31</td>\n",
       "      <td>49.0</td>\n",
       "      <td>21.0</td>\n",
       "      <td>46.437979</td>\n",
       "      <td>5.006937</td>\n",
       "    </tr>\n",
       "    <tr>\n",
       "      <th>98</th>\n",
       "      <td>1095</td>\n",
       "      <td>Nivigne et Suran</td>\n",
       "      <td>Auvergne-Rhône-Alpes</td>\n",
       "      <td>Ain</td>\n",
       "      <td>46.0</td>\n",
       "      <td>22</td>\n",
       "      <td>51.0</td>\n",
       "      <td>15.0</td>\n",
       "      <td>46.275016</td>\n",
       "      <td>5.416494</td>\n",
       "    </tr>\n",
       "    <tr>\n",
       "      <th>99</th>\n",
       "      <td>1096</td>\n",
       "      <td>Chaveyriat</td>\n",
       "      <td>Auvergne-Rhône-Alpes</td>\n",
       "      <td>Ain</td>\n",
       "      <td>50.0</td>\n",
       "      <td>28</td>\n",
       "      <td>57.0</td>\n",
       "      <td>18.0</td>\n",
       "      <td>46.199151</td>\n",
       "      <td>5.056407</td>\n",
       "    </tr>\n",
       "  </tbody>\n",
       "</table>\n",
       "<p>100 rows × 10 columns</p>\n",
       "</div>"
      ],
      "text/plain": [
       "     COM                      NCOM                  NREG NDEP  F65-79  F80+  \\\n",
       "0   1001   L'Abergement-Clémenciat  Auvergne-Rhône-Alpes  Ain    55.0    19   \n",
       "1   1002     L'Abergement-de-Varey  Auvergne-Rhône-Alpes  Ain    12.0     5   \n",
       "2   1004         Ambérieu-en-Bugey  Auvergne-Rhône-Alpes  Ain  1003.0   523   \n",
       "3   1005       Ambérieux-en-Dombes  Auvergne-Rhône-Alpes  Ain   102.0    43   \n",
       "4   1006                   Ambléon  Auvergne-Rhône-Alpes  Ain     9.0     5   \n",
       "..   ...                       ...                   ...  ...     ...   ...   \n",
       "95  1092        Châtillon-la-Palud  Auvergne-Rhône-Alpes  Ain   113.0    32   \n",
       "96  1093  Châtillon-sur-Chalaronne  Auvergne-Rhône-Alpes  Ain   462.0   381   \n",
       "97  1094   Chavannes-sur-Reyssouze  Auvergne-Rhône-Alpes  Ain    54.0    31   \n",
       "98  1095          Nivigne et Suran  Auvergne-Rhône-Alpes  Ain    46.0    22   \n",
       "99  1096                Chaveyriat  Auvergne-Rhône-Alpes  Ain    50.0    28   \n",
       "\n",
       "    H65-79   H80+   latitude  longitude  \n",
       "0     62.0   15.0  46.153426   4.926114  \n",
       "1     22.0    6.0  46.009188   5.428017  \n",
       "2    685.0  261.0  45.960848   5.372926  \n",
       "3    106.0   31.0  45.996180   4.912273  \n",
       "4      9.0    3.0  45.749499   5.594320  \n",
       "..     ...    ...        ...        ...  \n",
       "95   100.0   30.0  45.974802   5.241603  \n",
       "96   346.0  172.0  46.123239   4.958100  \n",
       "97    49.0   21.0  46.437979   5.006937  \n",
       "98    51.0   15.0  46.275016   5.416494  \n",
       "99    57.0   18.0  46.199151   5.056407  \n",
       "\n",
       "[100 rows x 10 columns]"
      ]
     },
     "execution_count": 10,
     "metadata": {},
     "output_type": "execute_result"
    }
   ],
   "source": [
    "df_final1 = pd.read_csv('/Users/jujupeneau/Desktop/Wildcodeschool_Data_engineer/projet/Lama_dev_login/my-react-passport-app/data/age_insee_with_coordinates_cleaned.csv')\n",
    "df_final1.head(100)"
   ]
  },
  {
   "cell_type": "code",
   "execution_count": 11,
   "metadata": {},
   "outputs": [
    {
     "data": {
      "text/plain": [
       "Index(['COM', 'NCOM', 'NREG', 'NDEP', 'F65-79', 'F80+', 'H65-79', 'H80+',\n",
       "       'latitude', 'longitude'],\n",
       "      dtype='object')"
      ]
     },
     "execution_count": 11,
     "metadata": {},
     "output_type": "execute_result"
    }
   ],
   "source": [
    "df_final1.columns"
   ]
  },
  {
   "cell_type": "code",
   "execution_count": 12,
   "metadata": {},
   "outputs": [
    {
     "data": {
      "text/plain": [
       "COM           object\n",
       "NCOM          object\n",
       "NREG          object\n",
       "NDEP          object\n",
       "F65-79       float64\n",
       "F80+           int64\n",
       "H65-79       float64\n",
       "H80+         float64\n",
       "latitude     float64\n",
       "longitude    float64\n",
       "dtype: object"
      ]
     },
     "execution_count": 12,
     "metadata": {},
     "output_type": "execute_result"
    }
   ],
   "source": [
    "df_final1.dtypes"
   ]
  },
  {
   "cell_type": "code",
   "execution_count": 13,
   "metadata": {},
   "outputs": [
    {
     "data": {
      "text/plain": [
       "COM          0\n",
       "NCOM         0\n",
       "NREG         0\n",
       "NDEP         0\n",
       "F65-79       0\n",
       "F80+         0\n",
       "H65-79       0\n",
       "H80+         0\n",
       "latitude     0\n",
       "longitude    0\n",
       "dtype: int64"
      ]
     },
     "execution_count": 13,
     "metadata": {},
     "output_type": "execute_result"
    }
   ],
   "source": [
    "df_final1.isna().sum()"
   ]
  }
 ],
 "metadata": {
  "kernelspec": {
   "display_name": "lama_dev",
   "language": "python",
   "name": "python3"
  },
  "language_info": {
   "codemirror_mode": {
    "name": "ipython",
    "version": 3
   },
   "file_extension": ".py",
   "mimetype": "text/x-python",
   "name": "python",
   "nbconvert_exporter": "python",
   "pygments_lexer": "ipython3",
   "version": "3.12.0"
  }
 },
 "nbformat": 4,
 "nbformat_minor": 2
}
